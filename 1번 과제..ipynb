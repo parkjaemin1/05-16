{
 "cells": [
  {
   "cell_type": "code",
   "execution_count": 85,
   "id": "5fd58dcf",
   "metadata": {},
   "outputs": [],
   "source": [
    "# -*- coding: utf-8 -*-\n",
    "\n",
    "%matplotlib inline\n",
    "\n",
    "import pandas as pd\n",
    "import numpy as np\n",
    "import matplotlib.pyplot as plt\n",
    "\n",
    "import warnings\n",
    "warnings.filterwarnings(\"ignore\")"
   ]
  },
  {
   "cell_type": "code",
   "execution_count": 86,
   "id": "ccd5bd2a",
   "metadata": {},
   "outputs": [],
   "source": [
    "# Data Source : http://www.statiz.co.kr/\n",
    "\n",
    "picher_file_path = '../data/picher_stats_2017.csv'\n",
    "batter_file_path = '../data/batter_stats_2017.csv'\n",
    "picher = pd.read_csv(picher_file_path)\n",
    "batter = pd.read_csv(batter_file_path)"
   ]
  },
  {
   "cell_type": "code",
   "execution_count": 87,
   "id": "26150988",
   "metadata": {},
   "outputs": [
    {
     "data": {
      "text/plain": [
       "Index(['선수명', '팀명', '경기', '타석', '타수', '안타', '홈런', '득점', '타점', '볼넷', '삼진', '도루',\n",
       "       'BABIP', '타율', '출루율', '장타율', 'OPS', 'wOBA', 'WAR', '연봉(2018)',\n",
       "       '연봉(2017)'],\n",
       "      dtype='object')"
      ]
     },
     "execution_count": 87,
     "metadata": {},
     "output_type": "execute_result"
    }
   ],
   "source": [
    "batter.columns"
   ]
  },
  {
   "cell_type": "code",
   "execution_count": 88,
   "id": "939186d3",
   "metadata": {},
   "outputs": [],
   "source": [
    "batter_features_df = batter[['경기', '타석', '타수', '안타', '홈런', '득점', '타점', '볼넷', '삼진', '도루',\n",
    "       'BABIP', '타율', '출루율', '장타율', 'OPS', 'wOBA', 'WAR', '연봉(2018)',\n",
    "       '연봉(2017)']]"
   ]
  },
  {
   "cell_type": "code",
   "execution_count": 89,
   "id": "9d43e47d",
   "metadata": {},
   "outputs": [],
   "source": [
    "batter = batter.drop('BABIP', axis=1)"
   ]
  },
  {
   "cell_type": "code",
   "execution_count": 90,
   "id": "9a8f15ca",
   "metadata": {},
   "outputs": [
    {
     "name": "stdout",
     "output_type": "stream",
     "text": [
      "Index(['선수명', '팀명', '경기', '타석', '타수', '안타', '홈런', '득점', '타점', '볼넷', '삼진', '도루',\n",
      "       '타율', '출루율', '장타율', 'OPS', 'wOBA', 'WAR', '연봉(2018)', '연봉(2017)'],\n",
      "      dtype='object')\n"
     ]
    }
   ],
   "source": [
    "print(batter.columns)"
   ]
  },
  {
   "cell_type": "code",
   "execution_count": 91,
   "id": "633d3c06",
   "metadata": {},
   "outputs": [],
   "source": [
    "# pandas 형태로 정의된 데이터를 출력할 때, scientific-notation이 아닌 float 모양으로 출력되게 해줍니다.\n",
    "pd.options.mode.chained_assignment = None"
   ]
  },
  {
   "cell_type": "code",
   "execution_count": 92,
   "id": "d71da42c",
   "metadata": {},
   "outputs": [],
   "source": [
    "# 피처 각각에 대한 scaling을 수행하는 함수를 정의합니다.\n",
    "def standard_scaling(df, scale_columns):\n",
    "    for col in scale_columns:\n",
    "#       print(col)\n",
    "#        print(df[col].dtype)\n",
    "        series_mean = df[col].mean()\n",
    "        series_std = df[col].std()\n",
    "        df[col] = df[col].apply(lambda x: (x-series_mean)/series_std)\n",
    "    return df"
   ]
  },
  {
   "cell_type": "code",
   "execution_count": 93,
   "id": "cf456aff",
   "metadata": {},
   "outputs": [],
   "source": [
    "# 피처 각각에 대한 scaling을 수행합니다.\n",
    "scale_columns = ['경기', '타석', '타수', '안타', '홈런', '득점', '타점', '볼넷', '삼진', '도루',\n",
    "        '타율', '출루율', '장타율', 'OPS', 'wOBA', 'WAR', '연봉(2017)']\n",
    "batter_df = standard_scaling(batter, scale_columns)"
   ]
  },
  {
   "cell_type": "code",
   "execution_count": 108,
   "id": "148ca7d5",
   "metadata": {},
   "outputs": [
    {
     "data": {
      "text/html": [
       "<div>\n",
       "<style scoped>\n",
       "    .dataframe tbody tr th:only-of-type {\n",
       "        vertical-align: middle;\n",
       "    }\n",
       "\n",
       "    .dataframe tbody tr th {\n",
       "        vertical-align: top;\n",
       "    }\n",
       "\n",
       "    .dataframe thead th {\n",
       "        text-align: right;\n",
       "    }\n",
       "</style>\n",
       "<table border=\"1\" class=\"dataframe\">\n",
       "  <thead>\n",
       "    <tr style=\"text-align: right;\">\n",
       "      <th></th>\n",
       "      <th>선수명</th>\n",
       "      <th>경기</th>\n",
       "      <th>타석</th>\n",
       "      <th>타수</th>\n",
       "      <th>안타</th>\n",
       "      <th>홈런</th>\n",
       "      <th>득점</th>\n",
       "      <th>타점</th>\n",
       "      <th>볼넷</th>\n",
       "      <th>삼진</th>\n",
       "      <th>...</th>\n",
       "      <th>KT</th>\n",
       "      <th>LG</th>\n",
       "      <th>NC</th>\n",
       "      <th>SK</th>\n",
       "      <th>넥센</th>\n",
       "      <th>두산</th>\n",
       "      <th>롯데</th>\n",
       "      <th>삼성</th>\n",
       "      <th>한화</th>\n",
       "      <th>예측연봉(2018)</th>\n",
       "    </tr>\n",
       "  </thead>\n",
       "  <tbody>\n",
       "    <tr>\n",
       "      <th>0</th>\n",
       "      <td>최정</td>\n",
       "      <td>1.149505</td>\n",
       "      <td>1.434367</td>\n",
       "      <td>1.231734</td>\n",
       "      <td>1.344928</td>\n",
       "      <td>4.621390</td>\n",
       "      <td>1.871933</td>\n",
       "      <td>2.601791</td>\n",
       "      <td>2.595310</td>\n",
       "      <td>1.960099</td>\n",
       "      <td>...</td>\n",
       "      <td>False</td>\n",
       "      <td>False</td>\n",
       "      <td>False</td>\n",
       "      <td>True</td>\n",
       "      <td>False</td>\n",
       "      <td>False</td>\n",
       "      <td>False</td>\n",
       "      <td>False</td>\n",
       "      <td>False</td>\n",
       "      <td>-0.529056</td>\n",
       "    </tr>\n",
       "    <tr>\n",
       "      <th>1</th>\n",
       "      <td>최형우</td>\n",
       "      <td>1.413314</td>\n",
       "      <td>1.952604</td>\n",
       "      <td>1.716832</td>\n",
       "      <td>2.074446</td>\n",
       "      <td>2.289944</td>\n",
       "      <td>2.174277</td>\n",
       "      <td>2.823399</td>\n",
       "      <td>3.927160</td>\n",
       "      <td>1.204511</td>\n",
       "      <td>...</td>\n",
       "      <td>False</td>\n",
       "      <td>False</td>\n",
       "      <td>False</td>\n",
       "      <td>False</td>\n",
       "      <td>False</td>\n",
       "      <td>False</td>\n",
       "      <td>False</td>\n",
       "      <td>False</td>\n",
       "      <td>False</td>\n",
       "      <td>-0.447016</td>\n",
       "    </tr>\n",
       "    <tr>\n",
       "      <th>2</th>\n",
       "      <td>박건우</td>\n",
       "      <td>1.171489</td>\n",
       "      <td>1.515659</td>\n",
       "      <td>1.537807</td>\n",
       "      <td>2.092684</td>\n",
       "      <td>1.590510</td>\n",
       "      <td>1.939120</td>\n",
       "      <td>1.493746</td>\n",
       "      <td>1.109785</td>\n",
       "      <td>0.660487</td>\n",
       "      <td>...</td>\n",
       "      <td>False</td>\n",
       "      <td>False</td>\n",
       "      <td>False</td>\n",
       "      <td>False</td>\n",
       "      <td>False</td>\n",
       "      <td>True</td>\n",
       "      <td>False</td>\n",
       "      <td>False</td>\n",
       "      <td>False</td>\n",
       "      <td>-0.406877</td>\n",
       "    </tr>\n",
       "    <tr>\n",
       "      <th>3</th>\n",
       "      <td>나성범</td>\n",
       "      <td>1.039584</td>\n",
       "      <td>1.607113</td>\n",
       "      <td>1.624432</td>\n",
       "      <td>2.019732</td>\n",
       "      <td>2.056799</td>\n",
       "      <td>2.342246</td>\n",
       "      <td>2.158573</td>\n",
       "      <td>1.468360</td>\n",
       "      <td>2.232111</td>\n",
       "      <td>...</td>\n",
       "      <td>False</td>\n",
       "      <td>False</td>\n",
       "      <td>True</td>\n",
       "      <td>False</td>\n",
       "      <td>False</td>\n",
       "      <td>False</td>\n",
       "      <td>False</td>\n",
       "      <td>False</td>\n",
       "      <td>False</td>\n",
       "      <td>-0.038219</td>\n",
       "    </tr>\n",
       "    <tr>\n",
       "      <th>4</th>\n",
       "      <td>손아섭</td>\n",
       "      <td>1.457283</td>\n",
       "      <td>2.145672</td>\n",
       "      <td>2.074881</td>\n",
       "      <td>2.384491</td>\n",
       "      <td>1.590510</td>\n",
       "      <td>2.678185</td>\n",
       "      <td>1.557063</td>\n",
       "      <td>3.261235</td>\n",
       "      <td>1.627640</td>\n",
       "      <td>...</td>\n",
       "      <td>False</td>\n",
       "      <td>False</td>\n",
       "      <td>False</td>\n",
       "      <td>False</td>\n",
       "      <td>False</td>\n",
       "      <td>False</td>\n",
       "      <td>True</td>\n",
       "      <td>False</td>\n",
       "      <td>False</td>\n",
       "      <td>-0.544748</td>\n",
       "    </tr>\n",
       "  </tbody>\n",
       "</table>\n",
       "<p>5 rows × 29 columns</p>\n",
       "</div>"
      ],
      "text/plain": [
       "   선수명        경기        타석        타수        안타        홈런        득점        타점   \n",
       "0   최정  1.149505  1.434367  1.231734  1.344928  4.621390  1.871933  2.601791  \\\n",
       "1  최형우  1.413314  1.952604  1.716832  2.074446  2.289944  2.174277  2.823399   \n",
       "2  박건우  1.171489  1.515659  1.537807  2.092684  1.590510  1.939120  1.493746   \n",
       "3  나성범  1.039584  1.607113  1.624432  2.019732  2.056799  2.342246  2.158573   \n",
       "4  손아섭  1.457283  2.145672  2.074881  2.384491  1.590510  2.678185  1.557063   \n",
       "\n",
       "         볼넷        삼진  ...     KT     LG     NC     SK     넥센     두산     롯데   \n",
       "0  2.595310  1.960099  ...  False  False  False   True  False  False  False  \\\n",
       "1  3.927160  1.204511  ...  False  False  False  False  False  False  False   \n",
       "2  1.109785  0.660487  ...  False  False  False  False  False   True  False   \n",
       "3  1.468360  2.232111  ...  False  False   True  False  False  False  False   \n",
       "4  3.261235  1.627640  ...  False  False  False  False  False  False   True   \n",
       "\n",
       "      삼성     한화  예측연봉(2018)  \n",
       "0  False  False   -0.529056  \n",
       "1  False  False   -0.447016  \n",
       "2  False  False   -0.406877  \n",
       "3  False  False   -0.038219  \n",
       "4  False  False   -0.544748  \n",
       "\n",
       "[5 rows x 29 columns]"
      ]
     },
     "execution_count": 108,
     "metadata": {},
     "output_type": "execute_result"
    }
   ],
   "source": [
    "batter_df = batter_df.rename(columns={'연봉(2018)': 'y'})\n",
    "batter_df.head(5)"
   ]
  },
  {
   "cell_type": "code",
   "execution_count": 109,
   "id": "d18285c0",
   "metadata": {},
   "outputs": [],
   "source": [
    "import pandas as pd\n",
    "from sklearn.linear_model import LinearRegression\n",
    "from sklearn.model_selection import train_test_split\n",
    "from sklearn.metrics import mean_squared_error\n",
    "\n",
    "\n",
    "# 학습 데이터와 테스트 데이터로 분리합니다.\n",
    "X = batter_df[batter_df.columns.difference(['선수명', 'y'])]\n",
    "y = batter_df['y'] #2018년 연봉은 y로 놓음...\n",
    "X_train, X_test, y_train, y_test = train_test_split(X, y, test_size=0.2, random_state=19)"
   ]
  },
  {
   "cell_type": "code",
   "execution_count": 112,
   "id": "2f4127e5",
   "metadata": {},
   "outputs": [
    {
     "name": "stdout",
     "output_type": "stream",
     "text": [
      "Index(['index', '선수명', '실제연봉(2018)', '예측연봉(2018)', '작년연봉(2017)'], dtype='object')\n"
     ]
    }
   ],
   "source": [
    "print(result_df.columns)"
   ]
  },
  {
   "cell_type": "code",
   "execution_count": 113,
   "id": "65cd2354",
   "metadata": {},
   "outputs": [],
   "source": [
    "# 학습 데이터와 테스트 데이터로 분리합니다.\n",
    "X = batter_df[batter_df.columns.difference(['선수명', 'y'])] # 선수명과 y를 뺀 것을 모두 X로 놓는다.\n",
    "y = batter_df['y']\n",
    "X_train, X_test, y_train, y_test = train_test_split(X, y, test_size=0.2, random_state=19)"
   ]
  },
  {
   "cell_type": "code",
   "execution_count": 116,
   "id": "7cb9b7da",
   "metadata": {},
   "outputs": [],
   "source": [
    "#예측값을 예측연본(2018)에 추가\n",
    "batter_df['예측연봉(2018)'] = pd.Series(y_predictions)"
   ]
  },
  {
   "cell_type": "code",
   "execution_count": 117,
   "id": "363356f3",
   "metadata": {},
   "outputs": [
    {
     "data": {
      "text/html": [
       "<div>\n",
       "<style scoped>\n",
       "    .dataframe tbody tr th:only-of-type {\n",
       "        vertical-align: middle;\n",
       "    }\n",
       "\n",
       "    .dataframe tbody tr th {\n",
       "        vertical-align: top;\n",
       "    }\n",
       "\n",
       "    .dataframe thead th {\n",
       "        text-align: right;\n",
       "    }\n",
       "</style>\n",
       "<table border=\"1\" class=\"dataframe\">\n",
       "  <thead>\n",
       "    <tr style=\"text-align: right;\">\n",
       "      <th></th>\n",
       "      <th>index</th>\n",
       "      <th>선수명</th>\n",
       "      <th>실제연봉(2018)</th>\n",
       "      <th>예측연봉(2018)</th>\n",
       "      <th>작년연봉(2017)</th>\n",
       "    </tr>\n",
       "  </thead>\n",
       "  <tbody>\n",
       "    <tr>\n",
       "      <th>0</th>\n",
       "      <td>2</td>\n",
       "      <td>박건우</td>\n",
       "      <td>37000</td>\n",
       "      <td>7614.178072</td>\n",
       "      <td>19500</td>\n",
       "    </tr>\n",
       "    <tr>\n",
       "      <th>1</th>\n",
       "      <td>3</td>\n",
       "      <td>나성범</td>\n",
       "      <td>43000</td>\n",
       "      <td>19403.449341</td>\n",
       "      <td>35000</td>\n",
       "    </tr>\n",
       "    <tr>\n",
       "      <th>2</th>\n",
       "      <td>4</td>\n",
       "      <td>손아섭</td>\n",
       "      <td>150000</td>\n",
       "      <td>3205.226012</td>\n",
       "      <td>65000</td>\n",
       "    </tr>\n",
       "    <tr>\n",
       "      <th>3</th>\n",
       "      <td>5</td>\n",
       "      <td>김선빈</td>\n",
       "      <td>28000</td>\n",
       "      <td>246780.857587</td>\n",
       "      <td>8000</td>\n",
       "    </tr>\n",
       "    <tr>\n",
       "      <th>4</th>\n",
       "      <td>7</td>\n",
       "      <td>박민우</td>\n",
       "      <td>32000</td>\n",
       "      <td>5584.059166</td>\n",
       "      <td>25000</td>\n",
       "    </tr>\n",
       "    <tr>\n",
       "      <th>5</th>\n",
       "      <td>8</td>\n",
       "      <td>김하성</td>\n",
       "      <td>32000</td>\n",
       "      <td>6745.065614</td>\n",
       "      <td>22000</td>\n",
       "    </tr>\n",
       "    <tr>\n",
       "      <th>6</th>\n",
       "      <td>9</td>\n",
       "      <td>스크럭스</td>\n",
       "      <td>70000</td>\n",
       "      <td>-130.616225</td>\n",
       "      <td>80000</td>\n",
       "    </tr>\n",
       "    <tr>\n",
       "      <th>7</th>\n",
       "      <td>10</td>\n",
       "      <td>러프</td>\n",
       "      <td>140000</td>\n",
       "      <td>16435.640968</td>\n",
       "      <td>110000</td>\n",
       "    </tr>\n",
       "    <tr>\n",
       "      <th>8</th>\n",
       "      <td>11</td>\n",
       "      <td>구자욱</td>\n",
       "      <td>25000</td>\n",
       "      <td>3363.646764</td>\n",
       "      <td>16000</td>\n",
       "    </tr>\n",
       "    <tr>\n",
       "      <th>9</th>\n",
       "      <td>12</td>\n",
       "      <td>안치홍</td>\n",
       "      <td>32000</td>\n",
       "      <td>990.956385</td>\n",
       "      <td>22000</td>\n",
       "    </tr>\n",
       "  </tbody>\n",
       "</table>\n",
       "</div>"
      ],
      "text/plain": [
       "   index   선수명  실제연봉(2018)     예측연봉(2018)  작년연봉(2017)\n",
       "0      2   박건우       37000    7614.178072       19500\n",
       "1      3   나성범       43000   19403.449341       35000\n",
       "2      4   손아섭      150000    3205.226012       65000\n",
       "3      5   김선빈       28000  246780.857587        8000\n",
       "4      7   박민우       32000    5584.059166       25000\n",
       "5      8   김하성       32000    6745.065614       22000\n",
       "6      9  스크럭스       70000    -130.616225       80000\n",
       "7     10    러프      140000   16435.640968      110000\n",
       "8     11   구자욱       25000    3363.646764       16000\n",
       "9     12   안치홍       32000     990.956385       22000"
      ]
     },
     "execution_count": 117,
     "metadata": {},
     "output_type": "execute_result"
    }
   ],
   "source": [
    "# 원래의 데이터 프레임을 다시 로드합니다.\n",
    "batter = pd.read_csv(batter_file_path)\n",
    "batter = batter[['선수명', '연봉(2017)']]\n",
    "\n",
    "# 원래의 데이터 프레임에 2018년 연봉 정보를 합칩니다.\n",
    "#result_df = picher_df.sort_values(by=['y'], ascending=False)\n",
    "result_df = batter_df\n",
    "result_df.drop(['연봉(2017)'], axis=1, inplace=True, errors='ignore')\n",
    "result_df = result_df.merge(batter, on=['선수명'], how='left')\n",
    "result_df = result_df[['선수명', 'y', '예측연봉(2018)', '연봉(2017)']]\n",
    "result_df.columns = ['선수명', '실제연봉(2018)', '예측연봉(2018)', '작년연봉(2017)']\n",
    "\n",
    "# 재계약하여 연봉이 변화한 선수만을 대상으로 관찰합니다.\n",
    "result_df = result_df[result_df['작년연봉(2017)'] != result_df['실제연봉(2018)']]\n",
    "result_df = result_df.reset_index()\n",
    "result_df = result_df.iloc[:10, :]\n",
    "result_df.head(10)"
   ]
  },
  {
   "cell_type": "code",
   "execution_count": 118,
   "id": "c7feb8c1",
   "metadata": {},
   "outputs": [
    {
     "data": {
      "text/plain": [
       "<Axes: xlabel='선수명'>"
      ]
     },
     "execution_count": 118,
     "metadata": {},
     "output_type": "execute_result"
    },
    {
     "data": {
      "image/png": "[encoded data removed]",
      "text/plain": [
       "<Figure size 640x480 with 1 Axes>"
      ]
     },
     "metadata": {},
     "output_type": "display_data"
    }
   ],
   "source": [
    "# 선수별 연봉 정보(작년 연봉, 예측 연봉, 실제 연봉)를 bar 그래프로 출력합니다.\n",
    "#mpl.rc('font', family='NanumGothicOTF')\n",
    "result_df.plot(x='선수명', y=['작년연봉(2017)', '예측연봉(2018)', '실제연봉(2018)'], kind=\"bar\")"
   ]
  },
  {
   "cell_type": "code",
   "execution_count": null,
   "id": "fab2b5f5",
   "metadata": {},
   "outputs": [],
   "source": []
  }
 ],
 "metadata": {
  "kernelspec": {
   "display_name": "Python 3 (ipykernel)",
   "language": "python",
   "name": "python3"
  },
  "language_info": {
   "codemirror_mode": {
    "name": "ipython",
    "version": 3
   },
   "file_extension": ".py",
   "mimetype": "text/x-python",
   "name": "python",
   "nbconvert_exporter": "python",
   "pygments_lexer": "ipython3",
   "version": "3.8.16"
  }
 },
 "nbformat": 4,
 "nbformat_minor": 5
}

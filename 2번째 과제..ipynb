{
 "cells": [
  {
   "cell_type": "code",
   "execution_count": 130,
   "id": "fbf19da2",
   "metadata": {},
   "outputs": [],
   "source": [
    "# -*- coding: utf-8 -*-\n",
    "\n",
    "%matplotlib inline\n",
    "\n",
    "import pandas as pd\n",
    "import numpy as np\n",
    "import matplotlib.pyplot as plt\n",
    "\n",
    "import warnings\n",
    "warnings.filterwarnings(\"ignore\")"
   ]
  },
  {
   "cell_type": "code",
   "execution_count": 131,
   "id": "92b3e4a0",
   "metadata": {},
   "outputs": [],
   "source": [
    "# Data Source : http://www.statiz.co.kr/\n",
    "\n",
    "picher_file_path = '../data/picher_stats_2017.csv'\n",
    "batter_file_path = '../data/batter_stats_2017.csv'\n",
    "picher = pd.read_csv(picher_file_path)\n",
    "batter = pd.read_csv(batter_file_path)"
   ]
  },
  {
   "cell_type": "code",
   "execution_count": 132,
   "id": "f5ebfc72",
   "metadata": {},
   "outputs": [
    {
     "data": {
      "text/plain": [
       "Index(['선수명', '팀명', '경기', '타석', '타수', '안타', '홈런', '득점', '타점', '볼넷', '삼진', '도루',\n",
       "       'BABIP', '타율', '출루율', '장타율', 'OPS', 'wOBA', 'WAR', '연봉(2018)',\n",
       "       '연봉(2017)'],\n",
       "      dtype='object')"
      ]
     },
     "execution_count": 132,
     "metadata": {},
     "output_type": "execute_result"
    }
   ],
   "source": [
    "batter.columns"
   ]
  },
  {
   "cell_type": "code",
   "execution_count": 133,
   "id": "a36813cf",
   "metadata": {},
   "outputs": [],
   "source": [
    "batter_features_df = batter[['타수', '안타', '홈런', '볼넷']]"
   ]
  },
  {
   "cell_type": "code",
   "execution_count": 134,
   "id": "4d863241",
   "metadata": {},
   "outputs": [],
   "source": [
    "batter = batter.drop('BABIP', axis=1)"
   ]
  },
  {
   "cell_type": "code",
   "execution_count": 135,
   "id": "f8295cfe",
   "metadata": {},
   "outputs": [
    {
     "name": "stdout",
     "output_type": "stream",
     "text": [
      "Index(['선수명', '팀명', '경기', '타석', '타수', '안타', '홈런', '득점', '타점', '볼넷', '삼진', '도루',\n",
      "       '타율', '출루율', '장타율', 'OPS', 'wOBA', 'WAR', '연봉(2018)', '연봉(2017)'],\n",
      "      dtype='object')\n"
     ]
    }
   ],
   "source": [
    "print(batter.columns)"
   ]
  },
  {
   "cell_type": "code",
   "execution_count": 136,
   "id": "433285a4",
   "metadata": {},
   "outputs": [],
   "source": [
    "# pandas 형태로 정의된 데이터를 출력할 때, scientific-notation이 아닌 float 모양으로 출력되게 해줍니다.\n",
    "pd.options.mode.chained_assignment = None"
   ]
  },
  {
   "cell_type": "code",
   "execution_count": 137,
   "id": "62e703fc",
   "metadata": {},
   "outputs": [],
   "source": [
    "# 피처 각각에 대한 scaling을 수행하는 함수를 정의합니다.\n",
    "def standard_scaling(df, scale_columns):\n",
    "    for col in scale_columns:\n",
    "#       print(col)\n",
    "#        print(df[col].dtype)\n",
    "        series_mean = df[col].mean()\n",
    "        series_std = df[col].std()\n",
    "        df[col] = df[col].apply(lambda x: (x-series_mean)/series_std)\n",
    "    return df"
   ]
  },
  {
   "cell_type": "code",
   "execution_count": 177,
   "id": "7fa3dffd",
   "metadata": {},
   "outputs": [],
   "source": [
    "# 피처 각각에 대한 scaling을 수행합니다.\n",
    "scale_columns = ['타수', '안타', '홈런', '볼넷']\n",
    "batter_df = standard_scaling(batter, scale_columns)"
   ]
  },
  {
   "cell_type": "code",
   "execution_count": 178,
   "id": "278217a8",
   "metadata": {},
   "outputs": [
    {
     "data": {
      "text/html": [
       "<div>\n",
       "<style scoped>\n",
       "    .dataframe tbody tr th:only-of-type {\n",
       "        vertical-align: middle;\n",
       "    }\n",
       "\n",
       "    .dataframe tbody tr th {\n",
       "        vertical-align: top;\n",
       "    }\n",
       "\n",
       "    .dataframe thead th {\n",
       "        text-align: right;\n",
       "    }\n",
       "</style>\n",
       "<table border=\"1\" class=\"dataframe\">\n",
       "  <thead>\n",
       "    <tr style=\"text-align: right;\">\n",
       "      <th></th>\n",
       "      <th>선수명</th>\n",
       "      <th>팀명</th>\n",
       "      <th>경기</th>\n",
       "      <th>타석</th>\n",
       "      <th>타수</th>\n",
       "      <th>안타</th>\n",
       "      <th>홈런</th>\n",
       "      <th>득점</th>\n",
       "      <th>타점</th>\n",
       "      <th>볼넷</th>\n",
       "      <th>...</th>\n",
       "      <th>도루</th>\n",
       "      <th>BABIP</th>\n",
       "      <th>타율</th>\n",
       "      <th>출루율</th>\n",
       "      <th>장타율</th>\n",
       "      <th>OPS</th>\n",
       "      <th>wOBA</th>\n",
       "      <th>WAR</th>\n",
       "      <th>y</th>\n",
       "      <th>연봉(2017)</th>\n",
       "    </tr>\n",
       "  </thead>\n",
       "  <tbody>\n",
       "    <tr>\n",
       "      <th>0</th>\n",
       "      <td>최정</td>\n",
       "      <td>SK</td>\n",
       "      <td>130</td>\n",
       "      <td>527</td>\n",
       "      <td>1.231734</td>\n",
       "      <td>1.344928</td>\n",
       "      <td>4.621390</td>\n",
       "      <td>89</td>\n",
       "      <td>113</td>\n",
       "      <td>2.595310</td>\n",
       "      <td>...</td>\n",
       "      <td>1</td>\n",
       "      <td>0.316</td>\n",
       "      <td>0.316</td>\n",
       "      <td>0.427</td>\n",
       "      <td>0.684</td>\n",
       "      <td>1.111</td>\n",
       "      <td>0.442</td>\n",
       "      <td>7.30</td>\n",
       "      <td>120000</td>\n",
       "      <td>120000</td>\n",
       "    </tr>\n",
       "    <tr>\n",
       "      <th>1</th>\n",
       "      <td>최형우</td>\n",
       "      <td>KIA</td>\n",
       "      <td>142</td>\n",
       "      <td>629</td>\n",
       "      <td>1.716832</td>\n",
       "      <td>2.074446</td>\n",
       "      <td>2.289944</td>\n",
       "      <td>98</td>\n",
       "      <td>120</td>\n",
       "      <td>3.927160</td>\n",
       "      <td>...</td>\n",
       "      <td>0</td>\n",
       "      <td>0.362</td>\n",
       "      <td>0.342</td>\n",
       "      <td>0.450</td>\n",
       "      <td>0.576</td>\n",
       "      <td>1.026</td>\n",
       "      <td>0.430</td>\n",
       "      <td>7.20</td>\n",
       "      <td>150000</td>\n",
       "      <td>150000</td>\n",
       "    </tr>\n",
       "    <tr>\n",
       "      <th>2</th>\n",
       "      <td>박건우</td>\n",
       "      <td>두산</td>\n",
       "      <td>131</td>\n",
       "      <td>543</td>\n",
       "      <td>1.537807</td>\n",
       "      <td>2.092684</td>\n",
       "      <td>1.590510</td>\n",
       "      <td>91</td>\n",
       "      <td>78</td>\n",
       "      <td>1.109785</td>\n",
       "      <td>...</td>\n",
       "      <td>20</td>\n",
       "      <td>0.39</td>\n",
       "      <td>0.366</td>\n",
       "      <td>0.424</td>\n",
       "      <td>0.582</td>\n",
       "      <td>1.006</td>\n",
       "      <td>0.424</td>\n",
       "      <td>7.04</td>\n",
       "      <td>37000</td>\n",
       "      <td>19500</td>\n",
       "    </tr>\n",
       "    <tr>\n",
       "      <th>3</th>\n",
       "      <td>나성범</td>\n",
       "      <td>NC</td>\n",
       "      <td>125</td>\n",
       "      <td>561</td>\n",
       "      <td>1.624432</td>\n",
       "      <td>2.019732</td>\n",
       "      <td>2.056799</td>\n",
       "      <td>103</td>\n",
       "      <td>99</td>\n",
       "      <td>1.468360</td>\n",
       "      <td>...</td>\n",
       "      <td>17</td>\n",
       "      <td>0.413</td>\n",
       "      <td>0.347</td>\n",
       "      <td>0.415</td>\n",
       "      <td>0.584</td>\n",
       "      <td>0.999</td>\n",
       "      <td>0.416</td>\n",
       "      <td>5.64</td>\n",
       "      <td>43000</td>\n",
       "      <td>35000</td>\n",
       "    </tr>\n",
       "    <tr>\n",
       "      <th>4</th>\n",
       "      <td>손아섭</td>\n",
       "      <td>롯데</td>\n",
       "      <td>144</td>\n",
       "      <td>667</td>\n",
       "      <td>2.074881</td>\n",
       "      <td>2.384491</td>\n",
       "      <td>1.590510</td>\n",
       "      <td>113</td>\n",
       "      <td>80</td>\n",
       "      <td>3.261235</td>\n",
       "      <td>...</td>\n",
       "      <td>25</td>\n",
       "      <td>0.374</td>\n",
       "      <td>0.335</td>\n",
       "      <td>0.420</td>\n",
       "      <td>0.514</td>\n",
       "      <td>0.934</td>\n",
       "      <td>0.398</td>\n",
       "      <td>5.60</td>\n",
       "      <td>150000</td>\n",
       "      <td>65000</td>\n",
       "    </tr>\n",
       "  </tbody>\n",
       "</table>\n",
       "<p>5 rows × 21 columns</p>\n",
       "</div>"
      ],
      "text/plain": [
       "   선수명   팀명   경기   타석        타수        안타        홈런   득점   타점        볼넷  ...   \n",
       "0   최정   SK  130  527  1.231734  1.344928  4.621390   89  113  2.595310  ...  \\\n",
       "1  최형우  KIA  142  629  1.716832  2.074446  2.289944   98  120  3.927160  ...   \n",
       "2  박건우   두산  131  543  1.537807  2.092684  1.590510   91   78  1.109785  ...   \n",
       "3  나성범   NC  125  561  1.624432  2.019732  2.056799  103   99  1.468360  ...   \n",
       "4  손아섭   롯데  144  667  2.074881  2.384491  1.590510  113   80  3.261235  ...   \n",
       "\n",
       "   도루  BABIP     타율    출루율    장타율    OPS   wOBA   WAR       y  연봉(2017)  \n",
       "0   1  0.316  0.316  0.427  0.684  1.111  0.442  7.30  120000    120000  \n",
       "1   0  0.362  0.342  0.450  0.576  1.026  0.430  7.20  150000    150000  \n",
       "2  20   0.39  0.366  0.424  0.582  1.006  0.424  7.04   37000     19500  \n",
       "3  17  0.413  0.347  0.415  0.584  0.999  0.416  5.64   43000     35000  \n",
       "4  25  0.374  0.335  0.420  0.514  0.934  0.398  5.60  150000     65000  \n",
       "\n",
       "[5 rows x 21 columns]"
      ]
     },
     "execution_count": 178,
     "metadata": {},
     "output_type": "execute_result"
    }
   ],
   "source": [
    "batter_df = batter_df.rename(columns={'연봉(2018)': 'y'})\n",
    "batter_df.head(5)"
   ]
  },
  {
   "cell_type": "code",
   "execution_count": 140,
   "id": "3e987ae3",
   "metadata": {},
   "outputs": [],
   "source": [
    "import pandas as pd\n",
    "from sklearn.linear_model import LinearRegression\n",
    "from sklearn.model_selection import train_test_split\n",
    "from sklearn.metrics import mean_squared_error\n",
    "\n",
    "\n",
    "# 학습 데이터와 테스트 데이터로 분리합니다.\n",
    "X = batter_df[batter_df.columns.difference(['선수명', 'y'])]\n",
    "y = batter_df['y'] #2018년 연봉은 y로 놓음...\n",
    "X_train, X_test, y_train, y_test = train_test_split(X, y, test_size=0.2, random_state=19)"
   ]
  },
  {
   "cell_type": "code",
   "execution_count": 168,
   "id": "36ba4f9c",
   "metadata": {},
   "outputs": [
    {
     "name": "stdout",
     "output_type": "stream",
     "text": [
      "Index(['선수명', '연봉(2017)', '예측연봉(2018)'], dtype='object')\n"
     ]
    }
   ],
   "source": [
    "print(result_df.columns)"
   ]
  },
  {
   "cell_type": "code",
   "execution_count": 173,
   "id": "f5e91c39",
   "metadata": {},
   "outputs": [],
   "source": [
    "import matplotlib.pyplot as plt\n",
    "from sklearn.linear_model import LinearRegression\n",
    "from sklearn.model_selection import train_test_split\n",
    "\n",
    "# 데이터 로드\n",
    "batter = pd.read_csv(batter_file_path)\n",
    "\n",
    "# 선택한 feature로 데이터 준비\n",
    "selected_features = ['타수', '안타', '홈런', '볼넷', '팀명']\n",
    "X = batter[selected_features]\n",
    "y = batter['연봉(2017)']\n",
    "\n",
    "# '팀명'을 가변수(dummy variable)로 변환\n",
    "X = pd.get_dummies(X, columns=['팀명'], drop_first=True)\n",
    "\n",
    "# Linear Regression 모델 생성 및 학습\n",
    "model = LinearRegression()\n",
    "model.fit(X, y)\n",
    "\n",
    "# 예측 연봉 계산\n",
    "y_pred = model.predict(X)\n",
    "\n",
    "# 원래의 데이터 프레임에 2018년 연봉 정보를 합칩니다.\n",
    "result_df = batter.sort_values(by=['연봉(2017)'], ascending=False)\n",
    "result_df['예측연봉(2018)'] = y_pred\n",
    "\n",
    "# 실제 연봉 정보를 추가합니다.\n",
    "result_df['실제연봉(2018)'] = batter['연봉(2017)']\n",
    "\n",
    "# 재계약하여 연봉이 변화한 선수만을 대상으로 관찰합니다.\n",
    "result_df = result_df[result_df['연봉(2017)'] != result_df['예측연봉(2018)']]\n",
    "result_df = result_df.iloc[:10, :]\n"
   ]
  },
  {
   "cell_type": "code",
   "execution_count": 174,
   "id": "07d83d40",
   "metadata": {},
   "outputs": [
    {
     "data": {
      "text/plain": [
       "<Axes: xlabel='선수명'>"
      ]
     },
     "execution_count": 174,
     "metadata": {},
     "output_type": "execute_result"
    },
    {
     "data": {
      "image/png": "[encoded data removed]",
      "text/plain": [
       "<Figure size 640x480 with 1 Axes>"
      ]
     },
     "metadata": {},
     "output_type": "display_data"
    }
   ],
   "source": [
    "# 선수별 연봉 정보(작년 연봉, 예측 연봉, 실제 연봉)를 bar 그래프로 출력합니다.\n",
    "#mpl.rc('font', family='NanumGothicOTF')\n",
    "result_df.plot(x='선수명', y=['연봉(2017)', '예측연봉(2018)', '실제연봉(2018)'], kind=\"bar\")"
   ]
  },
  {
   "cell_type": "code",
   "execution_count": null,
   "id": "bef6944e",
   "metadata": {},
   "outputs": [],
   "source": []
  }
 ],
 "metadata": {
  "kernelspec": {
   "display_name": "Python 3 (ipykernel)",
   "language": "python",
   "name": "python3"
  },
  "language_info": {
   "codemirror_mode": {
    "name": "ipython",
    "version": 3
   },
   "file_extension": ".py",
   "mimetype": "text/x-python",
   "name": "python",
   "nbconvert_exporter": "python",
   "pygments_lexer": "ipython3",
   "version": "3.8.16"
  }
 },
 "nbformat": 4,
 "nbformat_minor": 5
}
